{
  "cells": [
    {
      "cell_type": "code",
      "execution_count": 1,
      "metadata": {
        "id": "1_EHvxs8XTME"
      },
      "outputs": [],
      "source": [
        "import pandas as pd\n",
        "import numpy as np\n",
        "import math\n",
        "from sklearn import metrics\n",
        "%matplotlib inline\n",
        "import matplotlib.pyplot as plt\n",
        "from sklearn.model_selection import train_test_split\n",
        "from sklearn.preprocessing import StandardScaler\n",
        "import datetime as dt"
      ]
    },
    {
      "cell_type": "code",
      "execution_count": 2,
      "metadata": {
        "id": "Mt90CPOpXTMH"
      },
      "outputs": [],
      "source": [
        "dataset = pd.read_csv('C:/Users/sirig/Desktop/MIS_5/project/TSLA.csv')"
      ]
    },
    {
      "cell_type": "code",
      "execution_count": 3,
      "metadata": {
        "colab": {
          "base_uri": "https://localhost:8080/",
          "height": 206
        },
        "id": "35JLQMh1XTMJ",
        "outputId": "84e00373-f206-47ca-dd5d-12c1742bcdf8"
      },
      "outputs": [
        {
          "data": {
            "text/html": [
              "<div>\n",
              "<style scoped>\n",
              "    .dataframe tbody tr th:only-of-type {\n",
              "        vertical-align: middle;\n",
              "    }\n",
              "\n",
              "    .dataframe tbody tr th {\n",
              "        vertical-align: top;\n",
              "    }\n",
              "\n",
              "    .dataframe thead th {\n",
              "        text-align: right;\n",
              "    }\n",
              "</style>\n",
              "<table border=\"1\" class=\"dataframe\">\n",
              "  <thead>\n",
              "    <tr style=\"text-align: right;\">\n",
              "      <th></th>\n",
              "      <th>Date,Open,High,Low,Close,Adj Close,Volume</th>\n",
              "    </tr>\n",
              "  </thead>\n",
              "  <tbody>\n",
              "    <tr>\n",
              "      <th>0</th>\n",
              "      <td>29-06-2010,19,25,17.540001,23.889999,23.889999...</td>\n",
              "    </tr>\n",
              "    <tr>\n",
              "      <th>1</th>\n",
              "      <td>30-06-2010,25.790001,30.42,23.299999,23.83,23....</td>\n",
              "    </tr>\n",
              "    <tr>\n",
              "      <th>2</th>\n",
              "      <td>01-07-2010,25,25.92,20.27,21.959999,21.959999,...</td>\n",
              "    </tr>\n",
              "    <tr>\n",
              "      <th>3</th>\n",
              "      <td>02-07-2010,23,23.1,18.709999,19.200001,19.2000...</td>\n",
              "    </tr>\n",
              "    <tr>\n",
              "      <th>4</th>\n",
              "      <td>06-07-2010,20,20,15.83,16.110001,16.110001,686...</td>\n",
              "    </tr>\n",
              "  </tbody>\n",
              "</table>\n",
              "</div>"
            ],
            "text/plain": [
              "           Date,Open,High,Low,Close,Adj Close,Volume\n",
              "0  29-06-2010,19,25,17.540001,23.889999,23.889999...\n",
              "1  30-06-2010,25.790001,30.42,23.299999,23.83,23....\n",
              "2  01-07-2010,25,25.92,20.27,21.959999,21.959999,...\n",
              "3  02-07-2010,23,23.1,18.709999,19.200001,19.2000...\n",
              "4  06-07-2010,20,20,15.83,16.110001,16.110001,686..."
            ]
          },
          "execution_count": 3,
          "metadata": {},
          "output_type": "execute_result"
        }
      ],
      "source": [
        "dataset.head()"
      ]
    },
    {
      "cell_type": "code",
      "execution_count": 4,
      "metadata": {
        "colab": {
          "base_uri": "https://localhost:8080/"
        },
        "id": "TjMHAvtgXTMM",
        "outputId": "a74d47a1-2e1b-4d3b-ca5c-4b410fb9adca"
      },
      "outputs": [
        {
          "data": {
            "text/plain": [
              "(2416, 1)"
            ]
          },
          "execution_count": 4,
          "metadata": {},
          "output_type": "execute_result"
        }
      ],
      "source": [
        "dataset.shape"
      ]
    },
    {
      "cell_type": "code",
      "execution_count": 8,
      "metadata": {
        "id": "62RkLxKeXTMN"
      },
      "outputs": [
        {
          "ename": "KeyError",
          "evalue": "\"['Adj Close'] not found in axis\"",
          "output_type": "error",
          "traceback": [
            "\u001b[1;31m---------------------------------------------------------------------------\u001b[0m",
            "\u001b[1;31mKeyError\u001b[0m                                  Traceback (most recent call last)",
            "\u001b[1;32mc:\\Users\\sirig\\Desktop\\MIS_5\\project\\predict_stock_market.ipynb Cell 5\u001b[0m in \u001b[0;36m<cell line: 1>\u001b[1;34m()\u001b[0m\n\u001b[1;32m----> <a href='vscode-notebook-cell:/c%3A/Users/sirig/Desktop/MIS_5/project/predict_stock_market.ipynb#W4sZmlsZQ%3D%3D?line=0'>1</a>\u001b[0m dataset\u001b[39m.\u001b[39;49mdrop(\u001b[39m'\u001b[39;49m\u001b[39mAdj Close\u001b[39;49m\u001b[39m'\u001b[39;49m,axis \u001b[39m=\u001b[39;49m \u001b[39m1\u001b[39;49m, inplace \u001b[39m=\u001b[39;49m \u001b[39mTrue\u001b[39;49;00m)\n\u001b[0;32m      <a href='vscode-notebook-cell:/c%3A/Users/sirig/Desktop/MIS_5/project/predict_stock_market.ipynb#W4sZmlsZQ%3D%3D?line=1'>2</a>\u001b[0m dataset\u001b[39m.\u001b[39mdrop(\u001b[39m'\u001b[39m\u001b[39mDate\u001b[39m\u001b[39m'\u001b[39m,axis \u001b[39m=\u001b[39m \u001b[39m1\u001b[39m, inplace \u001b[39m=\u001b[39m \u001b[39mTrue\u001b[39;00m)\n",
            "File \u001b[1;32m~\\AppData\\Roaming\\Python\\Python310\\site-packages\\pandas\\util\\_decorators.py:311\u001b[0m, in \u001b[0;36mdeprecate_nonkeyword_arguments.<locals>.decorate.<locals>.wrapper\u001b[1;34m(*args, **kwargs)\u001b[0m\n\u001b[0;32m    305\u001b[0m \u001b[39mif\u001b[39;00m \u001b[39mlen\u001b[39m(args) \u001b[39m>\u001b[39m num_allow_args:\n\u001b[0;32m    306\u001b[0m     warnings\u001b[39m.\u001b[39mwarn(\n\u001b[0;32m    307\u001b[0m         msg\u001b[39m.\u001b[39mformat(arguments\u001b[39m=\u001b[39marguments),\n\u001b[0;32m    308\u001b[0m         \u001b[39mFutureWarning\u001b[39;00m,\n\u001b[0;32m    309\u001b[0m         stacklevel\u001b[39m=\u001b[39mstacklevel,\n\u001b[0;32m    310\u001b[0m     )\n\u001b[1;32m--> 311\u001b[0m \u001b[39mreturn\u001b[39;00m func(\u001b[39m*\u001b[39margs, \u001b[39m*\u001b[39m\u001b[39m*\u001b[39mkwargs)\n",
            "File \u001b[1;32m~\\AppData\\Roaming\\Python\\Python310\\site-packages\\pandas\\core\\frame.py:4948\u001b[0m, in \u001b[0;36mDataFrame.drop\u001b[1;34m(self, labels, axis, index, columns, level, inplace, errors)\u001b[0m\n\u001b[0;32m   4800\u001b[0m \u001b[39m@deprecate_nonkeyword_arguments\u001b[39m(version\u001b[39m=\u001b[39m\u001b[39mNone\u001b[39;00m, allowed_args\u001b[39m=\u001b[39m[\u001b[39m\"\u001b[39m\u001b[39mself\u001b[39m\u001b[39m\"\u001b[39m, \u001b[39m\"\u001b[39m\u001b[39mlabels\u001b[39m\u001b[39m\"\u001b[39m])\n\u001b[0;32m   4801\u001b[0m \u001b[39mdef\u001b[39;00m \u001b[39mdrop\u001b[39m(\n\u001b[0;32m   4802\u001b[0m     \u001b[39mself\u001b[39m,\n\u001b[1;32m   (...)\u001b[0m\n\u001b[0;32m   4809\u001b[0m     errors: \u001b[39mstr\u001b[39m \u001b[39m=\u001b[39m \u001b[39m\"\u001b[39m\u001b[39mraise\u001b[39m\u001b[39m\"\u001b[39m,\n\u001b[0;32m   4810\u001b[0m ):\n\u001b[0;32m   4811\u001b[0m     \u001b[39m\"\"\"\u001b[39;00m\n\u001b[0;32m   4812\u001b[0m \u001b[39m    Drop specified labels from rows or columns.\u001b[39;00m\n\u001b[0;32m   4813\u001b[0m \n\u001b[1;32m   (...)\u001b[0m\n\u001b[0;32m   4946\u001b[0m \u001b[39m            weight  1.0     0.8\u001b[39;00m\n\u001b[0;32m   4947\u001b[0m \u001b[39m    \"\"\"\u001b[39;00m\n\u001b[1;32m-> 4948\u001b[0m     \u001b[39mreturn\u001b[39;00m \u001b[39msuper\u001b[39;49m()\u001b[39m.\u001b[39;49mdrop(\n\u001b[0;32m   4949\u001b[0m         labels\u001b[39m=\u001b[39;49mlabels,\n\u001b[0;32m   4950\u001b[0m         axis\u001b[39m=\u001b[39;49maxis,\n\u001b[0;32m   4951\u001b[0m         index\u001b[39m=\u001b[39;49mindex,\n\u001b[0;32m   4952\u001b[0m         columns\u001b[39m=\u001b[39;49mcolumns,\n\u001b[0;32m   4953\u001b[0m         level\u001b[39m=\u001b[39;49mlevel,\n\u001b[0;32m   4954\u001b[0m         inplace\u001b[39m=\u001b[39;49minplace,\n\u001b[0;32m   4955\u001b[0m         errors\u001b[39m=\u001b[39;49merrors,\n\u001b[0;32m   4956\u001b[0m     )\n",
            "File \u001b[1;32m~\\AppData\\Roaming\\Python\\Python310\\site-packages\\pandas\\core\\generic.py:4279\u001b[0m, in \u001b[0;36mNDFrame.drop\u001b[1;34m(self, labels, axis, index, columns, level, inplace, errors)\u001b[0m\n\u001b[0;32m   4277\u001b[0m \u001b[39mfor\u001b[39;00m axis, labels \u001b[39min\u001b[39;00m axes\u001b[39m.\u001b[39mitems():\n\u001b[0;32m   4278\u001b[0m     \u001b[39mif\u001b[39;00m labels \u001b[39mis\u001b[39;00m \u001b[39mnot\u001b[39;00m \u001b[39mNone\u001b[39;00m:\n\u001b[1;32m-> 4279\u001b[0m         obj \u001b[39m=\u001b[39m obj\u001b[39m.\u001b[39;49m_drop_axis(labels, axis, level\u001b[39m=\u001b[39;49mlevel, errors\u001b[39m=\u001b[39;49merrors)\n\u001b[0;32m   4281\u001b[0m \u001b[39mif\u001b[39;00m inplace:\n\u001b[0;32m   4282\u001b[0m     \u001b[39mself\u001b[39m\u001b[39m.\u001b[39m_update_inplace(obj)\n",
            "File \u001b[1;32m~\\AppData\\Roaming\\Python\\Python310\\site-packages\\pandas\\core\\generic.py:4323\u001b[0m, in \u001b[0;36mNDFrame._drop_axis\u001b[1;34m(self, labels, axis, level, errors, consolidate, only_slice)\u001b[0m\n\u001b[0;32m   4321\u001b[0m         new_axis \u001b[39m=\u001b[39m axis\u001b[39m.\u001b[39mdrop(labels, level\u001b[39m=\u001b[39mlevel, errors\u001b[39m=\u001b[39merrors)\n\u001b[0;32m   4322\u001b[0m     \u001b[39melse\u001b[39;00m:\n\u001b[1;32m-> 4323\u001b[0m         new_axis \u001b[39m=\u001b[39m axis\u001b[39m.\u001b[39;49mdrop(labels, errors\u001b[39m=\u001b[39;49merrors)\n\u001b[0;32m   4324\u001b[0m     indexer \u001b[39m=\u001b[39m axis\u001b[39m.\u001b[39mget_indexer(new_axis)\n\u001b[0;32m   4326\u001b[0m \u001b[39m# Case for non-unique axis\u001b[39;00m\n\u001b[0;32m   4327\u001b[0m \u001b[39melse\u001b[39;00m:\n",
            "File \u001b[1;32m~\\AppData\\Roaming\\Python\\Python310\\site-packages\\pandas\\core\\indexes\\base.py:6644\u001b[0m, in \u001b[0;36mIndex.drop\u001b[1;34m(self, labels, errors)\u001b[0m\n\u001b[0;32m   6642\u001b[0m \u001b[39mif\u001b[39;00m mask\u001b[39m.\u001b[39many():\n\u001b[0;32m   6643\u001b[0m     \u001b[39mif\u001b[39;00m errors \u001b[39m!=\u001b[39m \u001b[39m\"\u001b[39m\u001b[39mignore\u001b[39m\u001b[39m\"\u001b[39m:\n\u001b[1;32m-> 6644\u001b[0m         \u001b[39mraise\u001b[39;00m \u001b[39mKeyError\u001b[39;00m(\u001b[39mf\u001b[39m\u001b[39m\"\u001b[39m\u001b[39m{\u001b[39;00m\u001b[39mlist\u001b[39m(labels[mask])\u001b[39m}\u001b[39;00m\u001b[39m not found in axis\u001b[39m\u001b[39m\"\u001b[39m)\n\u001b[0;32m   6645\u001b[0m     indexer \u001b[39m=\u001b[39m indexer[\u001b[39m~\u001b[39mmask]\n\u001b[0;32m   6646\u001b[0m \u001b[39mreturn\u001b[39;00m \u001b[39mself\u001b[39m\u001b[39m.\u001b[39mdelete(indexer)\n",
            "\u001b[1;31mKeyError\u001b[0m: \"['Adj Close'] not found in axis\""
          ]
        }
      ],
      "source": [
        "dataset.drop('Adj Close',axis = 1, inplace = True)\n",
        "dataset.drop('Date',axis = 1, inplace = True)\n"
      ]
    },
    {
      "cell_type": "code",
      "execution_count": null,
      "metadata": {
        "colab": {
          "base_uri": "https://localhost:8080/",
          "height": 206
        },
        "id": "BuePFG4_XTMO",
        "outputId": "34442473-b9b0-421e-a933-d87cf2d0aef7"
      },
      "outputs": [],
      "source": [
        "dataset.head()"
      ]
    },
    {
      "cell_type": "code",
      "execution_count": null,
      "metadata": {
        "colab": {
          "base_uri": "https://localhost:8080/"
        },
        "id": "b900jV2OXTMQ",
        "outputId": "f17737c2-24c0-46b9-cc24-0b0b1984335b"
      },
      "outputs": [],
      "source": [
        "dataset.isnull().sum()"
      ]
    },
    {
      "cell_type": "code",
      "execution_count": null,
      "metadata": {
        "colab": {
          "base_uri": "https://localhost:8080/"
        },
        "id": "xGer6G3jXTMR",
        "outputId": "bbe4a1a0-8259-4d8b-916b-ef9b7df242e3"
      },
      "outputs": [],
      "source": [
        "dataset.isna().any()"
      ]
    },
    {
      "cell_type": "code",
      "execution_count": null,
      "metadata": {
        "colab": {
          "base_uri": "https://localhost:8080/"
        },
        "id": "50-z5qGDXTMS",
        "outputId": "c182051c-3d02-4215-db36-c05ffc9a441c"
      },
      "outputs": [],
      "source": [
        "dataset.info()"
      ]
    },
    {
      "cell_type": "code",
      "execution_count": null,
      "metadata": {
        "colab": {
          "base_uri": "https://localhost:8080/",
          "height": 300
        },
        "id": "6GN6ZZaKXTMT",
        "outputId": "264e2188-87b0-4f16-be26-d1ada983ab84"
      },
      "outputs": [],
      "source": [
        "dataset.describe()"
      ]
    },
    {
      "cell_type": "code",
      "execution_count": null,
      "metadata": {
        "colab": {
          "base_uri": "https://localhost:8080/",
          "height": 392
        },
        "id": "5ry6zAc0XTMV",
        "outputId": "f5dc2bec-23e7-49bd-f0e5-67970c83e2be"
      },
      "outputs": [],
      "source": [
        "dataset['Open'].plot(figsize=(16,6))"
      ]
    },
    {
      "cell_type": "code",
      "execution_count": null,
      "metadata": {
        "id": "fcB0fuTAXTMW"
      },
      "outputs": [],
      "source": [
        "X = dataset.iloc[:, :-1].values\n",
        "Y = dataset.iloc[:, 1].values\n",
        "sc =  StandardScaler()\n",
        "X1 = sc.fit_transform(X)\n",
        "X_train, X_test, Y_train, Y_test = train_test_split( X1, Y, test_size = 0.2, random_state = 0 )"
      ]
    },
    {
      "cell_type": "code",
      "execution_count": null,
      "metadata": {},
      "outputs": [],
      "source": [
        "\n",
        "from sklearn.linear_model import LinearRegression\n",
        "X_Train , X_Test , y_Train , y_Test = train_test_split(X ,Y , random_state = 0)\n",
        "print(X)\n",
        "regressor = LinearRegression()\n",
        "regressor.fit(X_Train,y_Train)\n",
        "custom_data_prediction=regressor.predict(X_Test)"
      ]
    },
    {
      "cell_type": "markdown",
      "metadata": {},
      "source": [
        "# Linear Regression"
      ]
    },
    {
      "cell_type": "code",
      "execution_count": null,
      "metadata": {},
      "outputs": [],
      "source": [
        "class Linear_Regression():\n",
        "  def __init__(self, learning_rate, no_of_iterations):\n",
        "    self.learning_rate = learning_rate\n",
        "    self.no_of_iterations = no_of_iterations\n",
        "\n",
        "  def fit(self, X, Y ):\n",
        "    self.m, self.n = X.shape \n",
        "    self.w = np.zeros(self.n)\n",
        "    self.b = 0\n",
        "    self.X = X\n",
        "    self.Y = Y\n",
        "    \n",
        "    for i in range(self.no_of_iterations):\n",
        "      self.update_weights()\n",
        "\n",
        "  def update_weights(self):\n",
        "    Y_prediction = self.predict(self.X)\n",
        "    dw = - (2 * (self.X.T).dot(self.Y - Y_prediction)) / self.m\n",
        "    db = - 2 * np.sum(self.Y - Y_prediction)/self.m  \n",
        "    self.w = self.w - self.learning_rate*dw\n",
        "    self.b = self.b - self.learning_rate*db\n",
        "  \n",
        "  def predict(self, X):\n",
        "    return X.dot(self.w) + self.b"
      ]
    },
    {
      "cell_type": "code",
      "execution_count": null,
      "metadata": {},
      "outputs": [],
      "source": [
        "Linear_model = Linear_Regression(learning_rate = 0.01, no_of_iterations = 1000)\n",
        "Linear_model.fit( X_train, Y_train )\n",
        "Linear_Y_pred = Linear_model.predict( X_test )\n",
        "Linear_df=pd.DataFrame({'Actual':Y_test,'Predicted':Linear_Y_pred})\n",
        "print(Linear_df)\n",
        "print('Mean Absolute Error:',metrics.mean_absolute_error(Y_test,Linear_Y_pred))\n",
        "print('Mean Squared  Error:',metrics.mean_squared_error(Y_test,Linear_Y_pred))\n",
        "print('Root Mean Squared Error:',math.sqrt(metrics.mean_squared_error(Y_test,Linear_Y_pred)))\n",
        "graph=Linear_df.head(20)\n",
        "graph.plot(kind='bar')"
      ]
    },
    {
      "cell_type": "markdown",
      "metadata": {},
      "source": [
        "# Lasso Regression"
      ]
    },
    {
      "cell_type": "code",
      "execution_count": null,
      "metadata": {},
      "outputs": [],
      "source": [
        "class LassoRegression() :\n",
        "    def __init__( self, learning_rate, iterations, l1_penality ) :\n",
        "        self.learning_rate = learning_rate\n",
        "        self.iterations = iterations\n",
        "        self.l1_penality = l1_penality\n",
        "    def fit( self, X, Y ) :\n",
        "        self.m, self.n = X.shape\n",
        "        self.W = np.zeros( self.n )\n",
        "        self.b = 0\n",
        "        self.X = X\n",
        "        self.Y = Y\n",
        "        for i in range( self.iterations ) :\n",
        "            self.update_weights()\n",
        "        return self\n",
        "    def update_weights( self ) :\n",
        "        Y_pred = self.predict( self.X )  \n",
        "        dW = np.zeros( self.n )\n",
        "        for j in range( self.n ) :\n",
        "            if self.W[j] > 0 :\n",
        "                dW[j] = ( - ( 2 * ( self.X[:, j] ).dot( self.Y - Y_pred ) ) + self.l1_penality ) / self.m\n",
        "\n",
        "            else :\n",
        "                dW[j] = ( - ( 2 * ( self.X[:, j] ).dot( self.Y - Y_pred ) ) - self.l1_penality ) / self.m\n",
        "\n",
        "        db = - 2 * np.sum( self.Y - Y_pred ) / self.m \n",
        "        self.W = self.W - self.learning_rate * dW\n",
        "        self.b = self.b - self.learning_rate * db\n",
        "        return self\n",
        "# Hypothetical function  h( x ) \n",
        "    def predict( self, X ) :\n",
        "        return X.dot( self.W ) + self.b"
      ]
    },
    {
      "cell_type": "code",
      "execution_count": null,
      "metadata": {},
      "outputs": [],
      "source": [
        "Lasso_model = LassoRegression( iterations = 1000, learning_rate = 0.1, l1_penality = 100)\n",
        "Lasso_model.fit( X_train, Y_train )\n",
        "Lasso_Y_pred = Lasso_model.predict( X_test )\n",
        "\n",
        "Lasso_df=pd.DataFrame({'Actual':Y_test,'Predicted':Lasso_Y_pred})\n",
        "print(Lasso_df)\n",
        "print('Mean Absolute Error:',metrics.mean_absolute_error(Y_test,Lasso_Y_pred))\n",
        "print('Mean Squared  Error:',metrics.mean_squared_error(Y_test,Lasso_Y_pred))\n",
        "print('Root Mean Squared Error:',math.sqrt(metrics.mean_squared_error(Y_test,Lasso_Y_pred)))\n",
        "graph=Lasso_df.head(20)\n",
        "graph.plot(kind='bar')"
      ]
    },
    {
      "cell_type": "code",
      "execution_count": null,
      "metadata": {},
      "outputs": [],
      "source": [
        "class RidgeRegression() :\n",
        "    def __init__( self, learning_rate, iterations, l2_penality ) :\n",
        "        self.learning_rate = learning_rate        \n",
        "        self.iterations = iterations        \n",
        "        self.l2_penality = l2_penality\n",
        "                \n",
        "    def fit( self, X, Y ) :      \n",
        "        self.m, self.n = X.shape      \n",
        "        self.W = np.zeros( self.n )\n",
        "        self.b = 0        \n",
        "        self.X = X        \n",
        "        self.Y = Y\n",
        "        for i in range( self.iterations ) :            \n",
        "            self.update_weights()            \n",
        "        return self\n",
        "\n",
        "    def update_weights( self ) :           \n",
        "        Y_pred = self.predict( self.X )     \n",
        "        dW = ( - ( 2 * ( self.X.T ).dot( self.Y - Y_pred ) ) + ( 2 * self.l2_penality * self.W ) ) / self.m     \n",
        "        db = - 2 * np.sum( self.Y - Y_pred ) / self.m     \n",
        "        self.W = self.W - self.learning_rate * dW    \n",
        "        self.b = self.b - self.learning_rate * db        \n",
        "        return self\n",
        "\n",
        "    def predict( self, X ) :    \n",
        "        return X.dot( self.W ) + self.b"
      ]
    },
    {
      "cell_type": "code",
      "execution_count": null,
      "metadata": {},
      "outputs": [],
      "source": [
        "Ridge_model = RidgeRegression( iterations = 1000, learning_rate = 0.01, l2_penality = 100)\n",
        "Ridge_model.fit( X_train, Y_train )\n",
        "Ridge = Ridge_model.predict( X_test )\n",
        "\n",
        "Lasso_df=pd.DataFrame({'Actual':Y_test,'Predicted':Ridge})\n",
        "print(Lasso_df)\n",
        "print('Mean Absolute Error:',metrics.mean_absolute_error(Y_test,Ridge))\n",
        "print('Mean Squared  Error:',metrics.mean_squared_error(Y_test,Ridge))\n",
        "print('Root Mean Squared Error:',math.sqrt(metrics.mean_squared_error(Y_test,Ridge)))\n",
        "graph=Lasso_df.head(20)\n",
        "graph.plot(kind='bar')"
      ]
    },
    {
      "cell_type": "markdown",
      "metadata": {},
      "source": [
        "# Real Time Closing Price Prediction of stock"
      ]
    },
    {
      "cell_type": "code",
      "execution_count": null,
      "metadata": {},
      "outputs": [],
      "source": [
        "open = float(input(\"Enter the opening price of stock: \"))\n",
        "low = float(input(\"Enter the lowest price of stock: \"))\n",
        "high = float(input(\"Enter the highest price of stock: \"))\n",
        "volume = float(input(\"Enter the volume of stock: \"))\n",
        "\n",
        "custom_data=np.array([[open,low,high,volume]])\n",
        "custom_data_prediction=regressor.predict(custom_data)\n",
        "print(\"The stock will close at\\n \",custom_data_prediction,\"dollars\")"
      ]
    },
    {
      "cell_type": "code",
      "execution_count": null,
      "metadata": {},
      "outputs": [],
      "source": [
        "plt.title('Tesla Stock Closing Prices in past 5 years')\n",
        "plt.xlabel('Days')\n",
        "plt.ylabel('Closing Price')\n",
        "dataset.Close.plot(legend = True, figsize = (10,5))"
      ]
    },
    {
      "cell_type": "code",
      "execution_count": null,
      "metadata": {},
      "outputs": [],
      "source": [
        "plt.title('Tesla Stock Volume trading in past 5 years')\n",
        "plt.xlabel('Days')\n",
        "plt.ylabel('Volume of stocks')\n",
        "dataset.Volume.plot(legend = True, figsize = (10,5))"
      ]
    },
    {
      "cell_type": "code",
      "execution_count": null,
      "metadata": {},
      "outputs": [],
      "source": [
        "# Smoothing the graph\n",
        "# Ploting prices with rolling mean\n",
        "dataset['Close_10'] = dataset['Close'].rolling(10).mean()\n",
        "dataset['Close_50'] = dataset['Close'].rolling(50).mean()"
      ]
    },
    {
      "cell_type": "code",
      "execution_count": null,
      "metadata": {},
      "outputs": [],
      "source": [
        "ax = dataset.Close.plot(x = 'Date', y = 'Close', title = 'Tesla Close Price', figsize = (10,5))\n",
        "dataset.Close_10.plot(x = 'Date', y = 'Close_10', color = 'r', ax = ax)\n",
        "dataset.Close_50.plot(x = 'Date', y = 'Close_50', color = 'g', ax = ax)\n",
        "plt.ioff()"
      ]
    },
    {
      "cell_type": "code",
      "execution_count": null,
      "metadata": {},
      "outputs": [],
      "source": [
        "# Daily returns\n",
        "dataset['Daily_return'] = dataset['Close'].pct_change()\n",
        "dataset['Daily_return'].plot(figsize = (10,5), legend = True, linestyle = '--', marker = 'o')\n",
        "plt.ioff()"
      ]
    },
    {
      "cell_type": "markdown",
      "metadata": {},
      "source": [
        "# Maximum daily fluctuation in this stock is 15 %"
      ]
    },
    {
      "cell_type": "code",
      "execution_count": null,
      "metadata": {},
      "outputs": [],
      "source": [
        "import seaborn as sns\n",
        "# Average daily returns\n",
        "sns.distplot(dataset['Daily_return'], bins = 1000, color = 'b')\n"
      ]
    },
    {
      "cell_type": "code",
      "execution_count": null,
      "metadata": {},
      "outputs": [],
      "source": [
        "dataset['Daily_return'].hist(bins = 100, figsize = (10,5))"
      ]
    },
    {
      "cell_type": "markdown",
      "metadata": {},
      "source": [
        "# Daily fluctuation of stock normal distribution is between +-2 %"
      ]
    },
    {
      "cell_type": "code",
      "execution_count": null,
      "metadata": {},
      "outputs": [],
      "source": [
        "ser = np.array(range(len(dataset)))\n",
        "ind_series = pd.Series(ser)\n",
        "len(ind_series)"
      ]
    },
    {
      "cell_type": "code",
      "execution_count": null,
      "metadata": {},
      "outputs": [],
      "source": [
        "dataset.set_index = ind_series\n",
        "dataset.head()"
      ]
    },
    {
      "cell_type": "code",
      "execution_count": null,
      "metadata": {},
      "outputs": [],
      "source": [
        "df2 = dataset.drop(['Date','Close_10','Close_50'],axis = 1, errors = 'ignore')\n",
        "df2.head()"
      ]
    },
    {
      "cell_type": "code",
      "execution_count": null,
      "metadata": {},
      "outputs": [],
      "source": [
        "df2_pct = df2.pct_change()\n",
        "df2_pct = pd.DataFrame(df2_pct)\n",
        "df2_pct['Date'] = dataset['Date']\n",
        "df2_pct.head()"
      ]
    }
  ],
  "metadata": {
    "colab": {
      "collapsed_sections": [],
      "name": "predict_stock_market.ipynb",
      "provenance": []
    },
    "kernelspec": {
      "display_name": "Python 3.10.2 64-bit",
      "language": "python",
      "name": "python3"
    },
    "language_info": {
      "codemirror_mode": {
        "name": "ipython",
        "version": 3
      },
      "file_extension": ".py",
      "mimetype": "text/x-python",
      "name": "python",
      "nbconvert_exporter": "python",
      "pygments_lexer": "ipython3",
      "version": "3.10.2"
    },
    "vscode": {
      "interpreter": {
        "hash": "7b5652a12c2abed539c2b60956e6fe2b433f988da7ce035d4fbe3b8d8a8a3d6c"
      }
    }
  },
  "nbformat": 4,
  "nbformat_minor": 0
}
